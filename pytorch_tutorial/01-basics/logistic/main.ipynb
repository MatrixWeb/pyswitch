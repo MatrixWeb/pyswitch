{
 "nbformat": 4,
 "nbformat_minor": 2,
 "metadata": {
  "language_info": {
   "name": "python",
   "codemirror_mode": {
    "name": "ipython",
    "version": 3
   },
   "version": "3.7.6-final"
  },
  "orig_nbformat": 2,
  "file_extension": ".py",
  "mimetype": "text/x-python",
  "name": "python",
  "npconvert_exporter": "python",
  "pygments_lexer": "ipython3",
  "version": 3,
  "kernelspec": {
   "name": "python37664bitdeeplearningcondaeee01eb086454b7e83b32451b848ec71",
   "display_name": "Python 3.7.6 64-bit ('deeplearning': conda)"
  }
 },
 "cells": [
  {
   "cell_type": "code",
   "execution_count": 1,
   "metadata": {},
   "outputs": [],
   "source": [
    "import torch\n",
    "import torch.nn as nn\n",
    "import torchvision\n",
    "import torchvision.transforms as transforms"
   ]
  },
  {
   "cell_type": "code",
   "execution_count": 3,
   "metadata": {},
   "outputs": [],
   "source": [
    "input_size = 28 * 28\n",
    "num_classes = 10\n",
    "num_epochs = 5\n",
    "batch_size = 100\n",
    "learning_rate = 0.001\n",
    "\n",
    "train_dataset = torchvision.datasets.MNIST(root='../../../data',\n",
    "                                            train=True,\n",
    "                                            transform=transforms.ToTensor(),\n",
    "                                            download=True)\n",
    "test_dataset = torchvision.datasets.MNIST(root='../../../data', \n",
    "                                          train=False, \n",
    "                                          transform=transforms.ToTensor())"
   ]
  },
  {
   "cell_type": "code",
   "execution_count": 4,
   "metadata": {},
   "outputs": [],
   "source": [
    "train_loader = torch.utils.data.DataLoader(dataset=train_dataset,\n",
    "                                            batch_size=batch_size,\n",
    "                                            shuffle=True)\n",
    "test_loader = torch.utils.data.DataLoader(dataset=test_dataset,\n",
    "                                            batch_size=batch_size,\n",
    "                                            shuffle=False)\n",
    ""
   ]
  },
  {
   "cell_type": "code",
   "execution_count": 5,
   "metadata": {},
   "outputs": [
    {
     "output_type": "stream",
     "name": "stdout",
     "text": "Epoch [1/5], Step [100/600], Loss: 2.2087\nEpoch [1/5], Step [200/600], Loss: 2.1170\nEpoch [1/5], Step [300/600], Loss: 2.0491\nEpoch [1/5], Step [400/600], Loss: 1.9531\nEpoch [1/5], Step [500/600], Loss: 1.8788\nEpoch [1/5], Step [600/600], Loss: 1.8593\nEpoch [2/5], Step [100/600], Loss: 1.6707\nEpoch [2/5], Step [200/600], Loss: 1.6764\nEpoch [2/5], Step [300/600], Loss: 1.6647\nEpoch [2/5], Step [400/600], Loss: 1.6295\nEpoch [2/5], Step [500/600], Loss: 1.5788\nEpoch [2/5], Step [600/600], Loss: 1.4462\nEpoch [3/5], Step [100/600], Loss: 1.4929\nEpoch [3/5], Step [200/600], Loss: 1.4381\nEpoch [3/5], Step [300/600], Loss: 1.3414\nEpoch [3/5], Step [400/600], Loss: 1.3766\nEpoch [3/5], Step [500/600], Loss: 1.2662\nEpoch [3/5], Step [600/600], Loss: 1.2271\nEpoch [4/5], Step [100/600], Loss: 1.2004\nEpoch [4/5], Step [200/600], Loss: 1.1958\nEpoch [4/5], Step [300/600], Loss: 1.2781\nEpoch [4/5], Step [400/600], Loss: 1.2010\nEpoch [4/5], Step [500/600], Loss: 1.2336\nEpoch [4/5], Step [600/600], Loss: 1.1362\nEpoch [5/5], Step [100/600], Loss: 1.0270\nEpoch [5/5], Step [200/600], Loss: 1.0527\nEpoch [5/5], Step [300/600], Loss: 1.0382\nEpoch [5/5], Step [400/600], Loss: 1.0958\nEpoch [5/5], Step [500/600], Loss: 0.9919\nEpoch [5/5], Step [600/600], Loss: 0.9481\n"
    }
   ],
   "source": [
    "model = nn.Linear(input_size, num_classes)\n",
    "criterion = nn.CrossEntropyLoss()\n",
    "optimizer = torch.optim.SGD(model.parameters(),lr=learning_rate)\n",
    "\n",
    "total_step = len(train_loader)\n",
    "for epoch in range(num_epochs):\n",
    "    for i,(images,labels) in enumerate(train_loader):\n",
    "        images = images.reshape(-1, input_size)\n",
    "\n",
    "        outputs = model(images)\n",
    "        loss = criterion(outputs,labels)\n",
    "\n",
    "        optimizer.zero_grad()\n",
    "        loss.backward()\n",
    "        optimizer.step()\n",
    "\n",
    "        if (i+1)%100 == 0:\n",
    "            print ('Epoch [{}/{}], Step [{}/{}], Loss: {:.4f}' \n",
    "                   .format(epoch+1, num_epochs, i+1, total_step, loss.item()))\n",
    "        "
   ]
  },
  {
   "cell_type": "code",
   "execution_count": 7,
   "metadata": {},
   "outputs": [
    {
     "output_type": "stream",
     "name": "stdout",
     "text": "Accuracy of the model on the 10000 test images: 82 %\n"
    }
   ],
   "source": [
    "with torch.no_grad():\n",
    "    correct = 0\n",
    "    total = 0\n",
    "    for images, labels in test_loader:\n",
    "        images = images.reshape(-1, input_size)\n",
    "        outputs = model(images)\n",
    "        _, predicts = torch.max(outputs,1)\n",
    "        total += labels.size(0)\n",
    "        correct += (predicts == labels).sum()\n",
    "    print('Accuracy of the model on the 10000 test images: {} %'.format(100 * correct / total))"
   ]
  },
  {
   "cell_type": "code",
   "execution_count": null,
   "metadata": {},
   "outputs": [],
   "source": []
  }
 ]
}